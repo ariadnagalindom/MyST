{
 "cells": [
  {
   "cell_type": "markdown",
   "source": [
    "<img src=\"http://oci02.img.iteso.mx/identidad_de_instancia_2018/ITESO/Logos%20ITESO/Logo-ITESO-Principal.jpg\">"
   ],
   "metadata": {}
  },
  {
   "cell_type": "markdown",
   "source": [
    "# Microestructuras y Sistemas de Traiding \r\n",
    "\r\n",
    "## Autores: Ariadna Galindo y Bruno Pimentel \r\n",
    "### Otoño 2021"
   ],
   "metadata": {}
  },
  {
   "cell_type": "markdown",
   "source": [
    "### Requirements \r\n",
    "\r\n",
    "La lista completa requirements se encuentra en *requirements.txt* \r\n",
    "\r\n",
    "* certifi==2021.5.30\r\n",
    "* charset-normalizer==2.0.4\r\n",
    "* idna==3.2\r\n",
    "* lxml==4.6.3\r\n",
    "* mpmath==1.2.1\r\n",
    "* numpy==1.21.2\r\n",
    "* pandas==1.3.2\r\n",
    "* pandas-datareader==0.10.0\r\n",
    "* python-dateutil==2.8.2\r\n",
    "* pytz==2021.1\r\n",
    "* requests==2.26.0\r\n",
    "* six==1.16.0\r\n",
    "* sympy==1.8\r\n",
    "* urllib3==1.26.6"
   ],
   "metadata": {}
  },
  {
   "cell_type": "markdown",
   "source": [
    "### Dependencias \r\n",
    "Para correr correctamente este notebook se requiere tener la carpeta /files con los archivos de NAFTRAC tal y como la incluimos en el repositorio. Adicionalmente se recomienda correr primero los siguientes archivos en el siguiente orden: functions.py>data.py>main.py"
   ],
   "metadata": {}
  },
  {
   "cell_type": "markdown",
   "source": [
    "# Laboratorio 1: Inversión de Capital\n",
    "\n",
    "**Caso:** Tienes 1 Millón de pesos, tienes dos opciones para invertirlos. Por un lado, puedes hacer una Inversión Pasiva del capital, comprando el 100% del capital de títulos de un ETF que replica al mercado de renta variable mexicano S&P/BMV IPC que es el NAFTRAC. Pero por otro lado, puedes hacer una Inversión Activa del capital, al crear un portafolio que tenga los mismos activos que el ETF y haciendo el rebalanceo por medio de un algoritmo en específico.\n",
    "\n",
    "### ¿Qué estrategia de inversión propondrías si tu trabajo fuera invertir 1 Millón de pesos?"
   ],
   "metadata": {}
  },
  {
   "cell_type": "code",
   "execution_count": null,
   "source": [
    "#importamos librerias "
   ],
   "outputs": [],
   "metadata": {}
  },
  {
   "cell_type": "code",
   "execution_count": null,
   "source": [
    "#instalamos lo que haga falta "
   ],
   "outputs": [],
   "metadata": {}
  },
  {
   "cell_type": "code",
   "execution_count": null,
   "source": [
    "#descargamos las bases de datos "
   ],
   "outputs": [],
   "metadata": {}
  },
  {
   "cell_type": "code",
   "execution_count": null,
   "source": [
    "#inversión pasiva "
   ],
   "outputs": [],
   "metadata": {}
  },
  {
   "cell_type": "code",
   "execution_count": null,
   "source": [
    "#codigo Ariadna "
   ],
   "outputs": [],
   "metadata": {}
  },
  {
   "cell_type": "code",
   "execution_count": null,
   "source": [
    "#codigo Bruno"
   ],
   "outputs": [],
   "metadata": {}
  },
  {
   "cell_type": "code",
   "execution_count": null,
   "source": [
    "#codigo J.Pablo"
   ],
   "outputs": [],
   "metadata": {}
  },
  {
   "cell_type": "code",
   "execution_count": null,
   "source": [
    "#inversión activa "
   ],
   "outputs": [],
   "metadata": {}
  },
  {
   "cell_type": "code",
   "execution_count": null,
   "source": [
    "#codigo Ariadna "
   ],
   "outputs": [],
   "metadata": {}
  },
  {
   "cell_type": "code",
   "execution_count": null,
   "source": [
    "#codigo Bruno"
   ],
   "outputs": [],
   "metadata": {}
  },
  {
   "cell_type": "code",
   "execution_count": null,
   "source": [
    "#codigo J.Pablo"
   ],
   "outputs": [],
   "metadata": {}
  }
 ],
 "metadata": {
  "kernelspec": {
   "display_name": "Python 3",
   "language": "python",
   "name": "python3"
  },
  "language_info": {
   "codemirror_mode": {
    "name": "ipython",
    "version": 3
   },
   "file_extension": ".py",
   "mimetype": "text/x-python",
   "name": "python",
   "nbconvert_exporter": "python",
   "pygments_lexer": "ipython3",
   "version": "3.8.5"
  }
 },
 "nbformat": 4,
 "nbformat_minor": 4
}